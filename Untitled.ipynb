{
 "cells": [
  {
   "cell_type": "code",
   "execution_count": 2,
   "id": "ff245ffb-1f61-434e-a56c-8f484bcee429",
   "metadata": {},
   "outputs": [
    {
     "name": "stdout",
     "output_type": "stream",
     "text": [
      "✅ Compressed video saved to: C:\\Users\\evangelos.lampos\\smartcompanion\\public\\smartcompanion-video-compressed.mp4\n"
     ]
    }
   ],
   "source": [
    "import cv2\n",
    "import os\n",
    "\n",
    "input_path = \"public/smartcompanion-video.mp4\"\n",
    "output_path = \"public/smartcompanion-video-compressed.mp4\"\n",
    "\n",
    "cap = cv2.VideoCapture(input_path)\n",
    "fps = cap.get(cv2.CAP_PROP_FPS)\n",
    "width  = int(cap.get(cv2.CAP_PROP_FRAME_WIDTH))\n",
    "height = int(cap.get(cv2.CAP_PROP_FRAME_HEIGHT))\n",
    "\n",
    "# Reduce resolution\n",
    "new_width = width // 2\n",
    "new_height = height // 2\n",
    "\n",
    "fourcc = cv2.VideoWriter_fourcc(*'mp4v')\n",
    "out = cv2.VideoWriter(output_path, fourcc, fps, (new_width, new_height))\n",
    "\n",
    "while True:\n",
    "    ret, frame = cap.read()\n",
    "    if not ret:\n",
    "        break\n",
    "    frame = cv2.resize(frame, (new_width, new_height))\n",
    "    out.write(frame)\n",
    "\n",
    "cap.release()\n",
    "out.release()\n",
    "\n",
    "print(\"✅ Compressed video saved to:\", os.path.abspath(output_path))\n"
   ]
  },
  {
   "cell_type": "code",
   "execution_count": null,
   "id": "bdb8c333-c002-4274-aafa-72c0308e6bc0",
   "metadata": {},
   "outputs": [],
   "source": []
  },
  {
   "cell_type": "code",
   "execution_count": null,
   "id": "397da96e-701d-41c3-b918-b8553a20aa44",
   "metadata": {},
   "outputs": [],
   "source": []
  }
 ],
 "metadata": {
  "kernelspec": {
   "display_name": "Python 3 (ipykernel)",
   "language": "python",
   "name": "python3"
  },
  "language_info": {
   "codemirror_mode": {
    "name": "ipython",
    "version": 3
   },
   "file_extension": ".py",
   "mimetype": "text/x-python",
   "name": "python",
   "nbconvert_exporter": "python",
   "pygments_lexer": "ipython3",
   "version": "3.13.1"
  }
 },
 "nbformat": 4,
 "nbformat_minor": 5
}
